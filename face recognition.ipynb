{
 "cells": [
  {
   "cell_type": "code",
   "execution_count": 2,
   "metadata": {},
   "outputs": [
    {
     "name": "stderr",
     "output_type": "stream",
     "text": [
      "'pip3' is not recognized as an internal or external command,\n",
      "operable program or batch file.\n"
     ]
    }
   ],
   "source": [
    "#!pip install --upgrade virtualenv\n",
    "\n"
   ]
  },
  {
   "cell_type": "code",
   "execution_count": 2,
   "metadata": {},
   "outputs": [
    {
     "name": "stdout",
     "output_type": "stream",
     "text": [
      "Collecting opencv-python\n",
      "  Using cached https://files.pythonhosted.org/packages/85/17/bad54f67bbe27d88ba520c3f59315e95b4e254cd28767c20accacb0597d8/opencv_python-4.2.0.34-cp37-cp37m-win_amd64.whl\n",
      "Requirement already satisfied: numpy>=1.14.5 in c:\\users\\administrator\\.conda\\envs\\tf2\\lib\\site-packages (from opencv-python) (1.17.4)\n",
      "Installing collected packages: opencv-python\n",
      "Successfully installed opencv-python-4.2.0.34\n",
      "Collecting opencv-contrib-python\n",
      "  Using cached https://files.pythonhosted.org/packages/c6/a1/d0fd1ea9d5417437e6271e7f88d3ed155f64a979d3ccd926a3b21d4404dd/opencv_contrib_python-4.2.0.34-cp37-cp37m-win_amd64.whl\n",
      "Requirement already satisfied: numpy>=1.14.5 in c:\\users\\administrator\\.conda\\envs\\tf2\\lib\\site-packages (from opencv-contrib-python) (1.17.4)\n",
      "Installing collected packages: opencv-contrib-python\n",
      "Successfully installed opencv-contrib-python-4.2.0.34\n",
      "Requirement already satisfied: Pillow in c:\\users\\administrator\\.conda\\envs\\tf2\\lib\\site-packages (7.0.0)\n"
     ]
    }
   ],
   "source": [
    "!pip install opencv-python\n",
    "\n",
    "!pip install opencv-contrib-python\n",
    "\n",
    "!pip install Pillow"
   ]
  },
  {
   "cell_type": "code",
   "execution_count": 4,
   "metadata": {},
   "outputs": [],
   "source": [
    "import numpy as np"
   ]
  },
  {
   "cell_type": "code",
   "execution_count": 9,
   "metadata": {},
   "outputs": [],
   "source": [
    "import sqlite3\n",
    "conn = sqlite3.connect('database.db')\n",
    "c = conn.cursor()\n",
    "sql = \"\"\"\n",
    "DROP TABLE IF EXISTS users;\n",
    "CREATE TABLE users (\n",
    "           id integer unique primary key autoincrement,\n",
    "           name text,\n",
    "           emotion text,\n",
    "           timestamp datetime\n",
    ");\n",
    "\"\"\"\n",
    "c.executescript(sql)\n",
    "conn.commit()\n",
    "conn.close()\n"
   ]
  },
  {
   "cell_type": "code",
   "execution_count": 12,
   "metadata": {},
   "outputs": [
    {
     "name": "stdout",
     "output_type": "stream",
     "text": [
      "Enter your name: karan\n",
      "Emotion: Surprise\n",
      "Emotion: Surprise\n",
      "Emotion: Surprise\n",
      "Emotion: Fear\n",
      "Emotion: Sad\n",
      "Emotion: Fear\n",
      "Emotion: Fear\n",
      "Emotion: Fear\n",
      "Emotion: Fear\n",
      "Emotion: Fear\n",
      "Emotion: Fear\n",
      "Emotion: Sad\n",
      "Emotion: Fear\n",
      "Emotion: Sad\n",
      "Emotion: Surprise\n",
      "Emotion: Fear\n",
      "Emotion: Fear\n",
      "Emotion: Fear\n",
      "Emotion: Fear\n",
      "Emotion: Fear\n",
      "Emotion: Fear\n"
     ]
    }
   ],
   "source": [
    "import cv2\n",
    "import numpy as np \n",
    "import sqlite3\n",
    "import os\n",
    "conn = sqlite3.connect('database.db')\n",
    "if not os.path.exists('./dataset'):\n",
    "    os.makedirs('./dataset')\n",
    "c = conn.cursor()\n",
    "face_cascade = cv2.CascadeClassifier('haarcascade_frontalface_default.xml')\n",
    "cap = cv2.VideoCapture(0)\n",
    "uname = input(\"Enter your name: \")\n",
    "c.execute('INSERT INTO users (name,emotion) VALUES (?,?)', (uname,emot))\n",
    "#c.execute('INSERT INTO users () VALUES (?)', (emot,))\n",
    "uid = c.lastrowid\n",
    "sampleNum = 0\n",
    "while True:\n",
    "  ret, img = cap.read()\n",
    "  gray = cv2.cvtColor(img, cv2.COLOR_BGR2GRAY)\n",
    "  faces = face_cascade.detectMultiScale(gray, 1.3, 5)\n",
    "  for (x,y,w,h) in faces:\n",
    "    sampleNum = sampleNum+1\n",
    "    cv2.imwrite(\"dataset/User.\"+str(uid)+\".\"+str(sampleNum)+\".jpg\",gray[y:y+h,x:x+w])\n",
    "    cv2.rectangle(img, (x,y), (x+w, y+h), (255,0,0), 2)\n",
    "    roi_gray = gray[y:y + h, x:x + w]\n",
    "    cropped_img = np.expand_dims(np.expand_dims(cv2.resize(roi_gray, (48, 48)), -1), 0)\n",
    "    cv2.normalize(cropped_img, cropped_img, alpha=0, beta=1, norm_type=cv2.NORM_L2, dtype=cv2.CV_32F)\n",
    "    #cv2.rectangle(gray, (x, y), (x + w, y + h), (0, 255, 0), 1)\n",
    "    #predicting the emotion\n",
    "    yhat= loaded_model.predict(cropped_img)\n",
    "    cv2.putText(img, labels[int(np.argmax(yhat))], (x, y), cv2.FONT_HERSHEY_SIMPLEX, 0.8, (0, 255, 0), 1, cv2.LINE_AA)\n",
    "    print(\"Emotion: \"+labels[int(np.argmax(yhat))])\n",
    "    cv2.waitKey(100)\n",
    "  cv2.imshow('img',img)\n",
    "  cv2.waitKey(1);\n",
    "  if sampleNum > 20:\n",
    "    break\n",
    "emot = labels[int(np.argmax(yhat))]\n",
    "\n",
    "cap.release()\n",
    "conn.commit()\n",
    "conn.close()\n",
    "cv2.destroyAllWindows()"
   ]
  },
  {
   "cell_type": "code",
   "execution_count": 38,
   "metadata": {},
   "outputs": [],
   "source": [
    "import os\n",
    "import cv2\n",
    "import numpy as np \n",
    "from PIL import Image\n",
    "recognizer = cv2.face.LBPHFaceRecognizer_create()\n",
    "path = 'dataset'\n",
    "if not os.path.exists('./recognizer'):\n",
    "    os.makedirs('./recognizer')\n",
    "def getImagesWithID(path):\n",
    "  imagePaths = [os.path.join(path,f) for f in os.listdir(path)]\n",
    "  faces = []\n",
    "  IDs = []\n",
    "  for imagePath in imagePaths:\n",
    "    faceImg = Image.open(imagePath).convert('L')\n",
    "    faceNp = np.array(faceImg,'uint8')\n",
    "    ID = int(os.path.split(imagePath)[-1].split('.')[1])\n",
    "    faces.append(faceNp)\n",
    "    IDs.append(ID)\n",
    "    cv2.imshow(\"training\",faceNp)\n",
    "    cv2.waitKey(10)\n",
    "  return np.array(IDs), faces\n",
    "Ids, faces = getImagesWithID(path)\n",
    "recognizer.train(faces,Ids)\n",
    "recognizer.save('recognizer/trainingData.yml')\n",
    "cv2.destroyAllWindows()\n"
   ]
  },
  {
   "cell_type": "code",
   "execution_count": 13,
   "metadata": {},
   "outputs": [
    {
     "name": "stdout",
     "output_type": "stream",
     "text": [
      "Emotion: Surprise\n",
      "Emotion: Surprise\n",
      "Emotion: Surprise\n",
      "Emotion: Surprise\n",
      "Emotion: Surprise\n",
      "Emotion: Surprise\n",
      "Emotion: Sad\n",
      "Emotion: Fear\n",
      "Emotion: Surprise\n",
      "Emotion: Fear\n",
      "Emotion: Surprise\n",
      "Emotion: Sad\n",
      "Emotion: Sad\n",
      "Emotion: Surprise\n",
      "Emotion: Surprise\n",
      "Emotion: Surprise\n",
      "Emotion: Sad\n",
      "Emotion: Fear\n",
      "Emotion: Sad\n",
      "Emotion: Surprise\n",
      "Emotion: Surprise\n",
      "Emotion: Neutral\n",
      "Emotion: Surprise\n",
      "Emotion: Fear\n",
      "Emotion: Sad\n",
      "Emotion: Sad\n",
      "Emotion: Fear\n",
      "Emotion: Fear\n",
      "Emotion: Sad\n",
      "Emotion: Sad\n",
      "Emotion: Sad\n",
      "Emotion: Neutral\n",
      "Emotion: Surprise\n",
      "Emotion: Fear\n",
      "Emotion: Sad\n",
      "Emotion: Sad\n",
      "Emotion: Sad\n",
      "Emotion: Sad\n",
      "Emotion: Sad\n",
      "Emotion: Sad\n",
      "Emotion: Sad\n",
      "Emotion: Sad\n",
      "Emotion: Sad\n",
      "Emotion: Angry\n",
      "Emotion: Sad\n",
      "Emotion: Fear\n",
      "Emotion: Sad\n",
      "Emotion: Fear\n",
      "Emotion: Fear\n",
      "Emotion: Neutral\n",
      "Emotion: Happy\n",
      "Emotion: Neutral\n",
      "Emotion: Neutral\n",
      "Emotion: Happy\n",
      "Emotion: Neutral\n",
      "Emotion: Happy\n",
      "Emotion: Happy\n",
      "Emotion: Happy\n",
      "Emotion: Happy\n",
      "Emotion: Happy\n",
      "Emotion: Neutral\n",
      "Emotion: Neutral\n",
      "Emotion: Happy\n",
      "Emotion: Fear\n",
      "Emotion: Happy\n",
      "Emotion: Happy\n",
      "Emotion: Sad\n",
      "Emotion: Fear\n",
      "Emotion: Fear\n",
      "Emotion: Fear\n",
      "Emotion: Fear\n",
      "Emotion: Fear\n",
      "Emotion: Fear\n",
      "Emotion: Neutral\n",
      "Emotion: Neutral\n",
      "Emotion: Happy\n",
      "Emotion: Happy\n",
      "Emotion: Happy\n",
      "Emotion: Neutral\n",
      "Emotion: Happy\n",
      "Emotion: Neutral\n",
      "Emotion: Happy\n",
      "Emotion: Neutral\n",
      "Emotion: Neutral\n",
      "Emotion: Neutral\n",
      "Emotion: Happy\n",
      "Emotion: Neutral\n",
      "Emotion: Happy\n",
      "Emotion: Happy\n",
      "Emotion: Neutral\n",
      "Emotion: Neutral\n",
      "Emotion: Neutral\n",
      "Emotion: Neutral\n",
      "Emotion: Happy\n",
      "Emotion: Happy\n",
      "Emotion: Happy\n",
      "Emotion: Happy\n",
      "Emotion: Neutral\n",
      "Emotion: Happy\n",
      "Emotion: Neutral\n",
      "Emotion: Angry\n",
      "Emotion: Neutral\n",
      "Emotion: Neutral\n",
      "Emotion: Neutral\n",
      "Emotion: Neutral\n",
      "Emotion: Angry\n",
      "Emotion: Neutral\n",
      "Emotion: Neutral\n",
      "Emotion: Happy\n",
      "Emotion: Neutral\n",
      "Emotion: Neutral\n",
      "Emotion: Happy\n",
      "Emotion: Angry\n",
      "Emotion: Happy\n",
      "Emotion: Surprise\n",
      "Emotion: Happy\n",
      "Emotion: Happy\n",
      "Emotion: Neutral\n",
      "Emotion: Neutral\n",
      "Emotion: Fear\n",
      "Emotion: Surprise\n",
      "Emotion: Surprise\n",
      "Emotion: Fear\n",
      "Emotion: Happy\n",
      "Emotion: Surprise\n",
      "Emotion: Happy\n",
      "Emotion: Sad\n",
      "Emotion: Happy\n",
      "Emotion: Surprise\n",
      "Emotion: Fear\n",
      "Emotion: Surprise\n",
      "Emotion: Fear\n",
      "Emotion: Angry\n",
      "Emotion: Neutral\n",
      "Emotion: Angry\n",
      "Emotion: Surprise\n",
      "Emotion: Fear\n",
      "Emotion: Neutral\n",
      "Emotion: Angry\n",
      "Emotion: Fear\n",
      "Emotion: Fear\n",
      "Emotion: Fear\n",
      "Emotion: Fear\n",
      "Emotion: Angry\n",
      "Emotion: Fear\n",
      "Emotion: Fear\n",
      "Emotion: Fear\n",
      "Emotion: Angry\n",
      "Emotion: Fear\n",
      "Emotion: Fear\n",
      "Emotion: Fear\n",
      "Emotion: Sad\n",
      "Emotion: Fear\n",
      "Emotion: Fear\n",
      "Emotion: Fear\n",
      "Emotion: Fear\n",
      "Emotion: Neutral\n",
      "Emotion: Neutral\n",
      "Emotion: Sad\n",
      "Emotion: Neutral\n",
      "Emotion: Neutral\n",
      "Emotion: Sad\n",
      "Emotion: Sad\n",
      "Emotion: Neutral\n"
     ]
    }
   ],
   "source": [
    "import cv2\n",
    "import numpy as np \n",
    "import sqlite3\n",
    "import os\n",
    "conn = sqlite3.connect('database.db')\n",
    "c = conn.cursor()\n",
    "fname = \"recognizer/trainingData.yml\"\n",
    "if not os.path.isfile(fname):\n",
    "  print(\"Please train the data first\")\n",
    "  exit(0)\n",
    "face_cascade = cv2.CascadeClassifier('haarcascade_frontalface_default.xml')\n",
    "cap = cv2.VideoCapture(0)\n",
    "recognizer = cv2.face.LBPHFaceRecognizer_create()\n",
    "recognizer.read(fname)\n",
    "while True:\n",
    "  ret, img = cap.read()\n",
    "  gray = cv2.cvtColor(img, cv2.COLOR_BGR2GRAY)\n",
    "  faces = face_cascade.detectMultiScale(gray, 1.3, 5)\n",
    "  for (x,y,w,h) in faces:\n",
    "    cv2.rectangle(img,(x,y),(x+w,y+h),(0,255,0),3)\n",
    "    ids,conf = recognizer.predict(gray[y:y+h,x:x+w])\n",
    "    c.execute(\"select name from users where id = (?);\", (ids,))\n",
    "    result = c.fetchall()\n",
    "    name = result[0][0]\n",
    "    if conf < 50:\n",
    "      cv2.putText(img, name, (x+2,y+h-5), cv2.FONT_HERSHEY_SIMPLEX, 1, (150,255,0),2)\n",
    "    else:\n",
    "      cv2.putText(img, 'No Match', (x+2,y+h-5), cv2.FONT_HERSHEY_SIMPLEX, 1, (0,0,255),2)\n",
    "    roi_gray = gray[y:y + h, x:x + w]\n",
    "    cropped_img = np.expand_dims(np.expand_dims(cv2.resize(roi_gray, (48, 48)), -1), 0)\n",
    "    cv2.normalize(cropped_img, cropped_img, alpha=0, beta=1, norm_type=cv2.NORM_L2, dtype=cv2.CV_32F)\n",
    "    #cv2.rectangle(gray, (x, y), (x + w, y + h), (0, 255, 0), 1)\n",
    "    #predicting the emotion\n",
    "    yhat= loaded_model.predict(cropped_img)\n",
    "    cv2.putText(img, labels[int(np.argmax(yhat))], (x, y), cv2.FONT_HERSHEY_SIMPLEX, 0.8, (0, 255, 0), 1, cv2.LINE_AA)\n",
    "    print(\"Emotion: \"+labels[int(np.argmax(yhat))])\n",
    "  \n",
    "  cv2.imshow('Face Recognizer',img)\n",
    "  k = cv2.waitKey(30) & 0xff\n",
    "  if k == 27:\n",
    "    break\n",
    "cap.release()\n",
    "cv2.destroyAllWindows()"
   ]
  },
  {
   "cell_type": "code",
   "execution_count": 24,
   "metadata": {},
   "outputs": [
    {
     "name": "stderr",
     "output_type": "stream",
     "text": [
      "'git' is not recognized as an internal or external command,\n",
      "operable program or batch file.\n"
     ]
    }
   ],
   "source": [
    "!git clone https://github.com/atulapra/Emotion-detection.git\n"
   ]
  },
  {
   "cell_type": "code",
   "execution_count": 4,
   "metadata": {},
   "outputs": [
    {
     "name": "stderr",
     "output_type": "stream",
     "text": [
      "Using TensorFlow backend.\n"
     ]
    },
    {
     "name": "stdout",
     "output_type": "stream",
     "text": [
      "WARNING:tensorflow:From C:\\Users\\Administrator\\.conda\\envs\\tf2\\lib\\site-packages\\tensorflow_core\\python\\ops\\resource_variable_ops.py:1630: calling BaseResourceVariable.__init__ (from tensorflow.python.ops.resource_variable_ops) with constraint is deprecated and will be removed in a future version.\n",
      "Instructions for updating:\n",
      "If using Keras pass *_constraint arguments to layers.\n",
      "WARNING:tensorflow:From C:\\Users\\Administrator\\.conda\\envs\\tf2\\lib\\site-packages\\keras\\backend\\tensorflow_backend.py:4070: The name tf.nn.max_pool is deprecated. Please use tf.nn.max_pool2d instead.\n",
      "\n",
      "Loaded model from disk\n",
      "Image Loaded\n"
     ]
    },
    {
     "data": {
      "text/plain": [
       "-1"
      ]
     },
     "execution_count": 4,
     "metadata": {},
     "output_type": "execute_result"
    }
   ],
   "source": [
    "# load json and create model\n",
    "from __future__ import division\n",
    "from keras.models import Sequential\n",
    "from keras.layers import Dense\n",
    "from keras.models import model_from_json\n",
    "import numpy\n",
    "import os\n",
    "import numpy as np\n",
    "import cv2\n",
    "\n",
    "#loading the model\n",
    "json_file = open('fer.json', 'r')\n",
    "loaded_model_json = json_file.read()\n",
    "\n",
    "json_file.close()\n",
    "loaded_model = model_from_json(loaded_model_json)\n",
    "# load weights into new model\n",
    "loaded_model.load_weights(\"fer.h5\")\n",
    "print(\"Loaded model from disk\")\n",
    "\n",
    "#setting image resizing parameters\n",
    "WIDTH = 48\n",
    "HEIGHT = 48\n",
    "x=None\n",
    "y=None\n",
    "labels = ['Angry', 'Disgust', 'Fear', 'Happy', 'Sad', 'Surprise', 'Neutral']\n",
    "\n",
    "#loading image\n",
    "full_size_image = cv2.imread(\"smile5.jpg\")\n",
    "print(\"Image Loaded\")\n",
    "gray=cv2.cvtColor(full_size_image,cv2.COLOR_BGR2GRAY)\n",
    "face = cv2.CascadeClassifier('haarcascade_frontalface_default.xml')\n",
    "faces = face.detectMultiScale(gray, 1.51 , 5)\n",
    "\n",
    "#detecting faces\n",
    "for (x, y, w, h) in faces:\n",
    "        roi_gray = gray[y:y + h, x:x + w]\n",
    "        cropped_img = np.expand_dims(np.expand_dims(cv2.resize(roi_gray, (48, 48)), -1), 0)\n",
    "        cv2.normalize(cropped_img, cropped_img, alpha=0, beta=1, norm_type=cv2.NORM_L2, dtype=cv2.CV_32F)\n",
    "        cv2.rectangle(full_size_image, (x, y), (x + w, y + h), (0, 255, 0), 1)\n",
    "        #predicting the emotion\n",
    "        yhat= loaded_model.predict(cropped_img)\n",
    "        cv2.putText(full_size_image, labels[int(np.argmax(yhat))], (x, y), cv2.FONT_HERSHEY_SIMPLEX, 0.8, (0, 255, 0), 1, cv2.LINE_AA)\n",
    "        print(\"Emotion: \"+labels[int(np.argmax(yhat))])\n",
    "cv2.imshow('Emotion', full_size_image)\n",
    "cv2.waitKey()\n"
   ]
  },
  {
   "cell_type": "code",
   "execution_count": 2,
   "metadata": {},
   "outputs": [],
   "source": [
    "cv2.imshow('Emotion', full_size_image)"
   ]
  },
  {
   "cell_type": "code",
   "execution_count": 21,
   "metadata": {},
   "outputs": [
    {
     "name": "stdout",
     "output_type": "stream",
     "text": [
      "Image Loaded\n",
      "Emotion: Happy\n"
     ]
    },
    {
     "data": {
      "text/plain": [
       "-1"
      ]
     },
     "execution_count": 21,
     "metadata": {},
     "output_type": "execute_result"
    }
   ],
   "source": [
    "full_size_image = cv2.imread(\"smile5.jpg\")\n",
    "print(\"Image Loaded\")\n",
    "gray=cv2.cvtColor(full_size_image,cv2.COLOR_RGB2GRAY)\n",
    "face = cv2.CascadeClassifier('haarcascade_frontalface_default.xml')\n",
    "faces = face.detectMultiScale(gray, 1.3  , 10)\n",
    "\n",
    "#detecting faces\n",
    "for (x, y, w, h) in faces:\n",
    "        roi_gray = gray[y:y + h, x:x + w]\n",
    "        cropped_img = np.expand_dims(np.expand_dims(cv2.resize(roi_gray, (48, 48)), -1), 0)\n",
    "        cv2.normalize(cropped_img, cropped_img, alpha=0, beta=1, norm_type=cv2.NORM_L2, dtype=cv2.CV_32F)\n",
    "        cv2.rectangle(full_size_image, (x, y), (x + w, y + h), (0, 255, 0), 1)\n",
    "        #predicting the emotion\n",
    "        yhat= loaded_model.predict(cropped_img)\n",
    "        cv2.putText(full_size_image, labels[int(np.argmax(yhat))], (x, y), cv2.FONT_HERSHEY_SIMPLEX, 0.8, (0, 255, 0), 1, cv2.LINE_AA)\n",
    "        print(\"Emotion: \"+labels[int(np.argmax(yhat))])\n",
    "cv2.imshow('Emotion', full_size_image)\n",
    "cv2.waitKey()\n",
    "\n",
    "    "
   ]
  },
  {
   "cell_type": "code",
   "execution_count": 22,
   "metadata": {},
   "outputs": [
    {
     "data": {
      "text/plain": [
       "'Happy'"
      ]
     },
     "execution_count": 22,
     "metadata": {},
     "output_type": "execute_result"
    }
   ],
   "source": [
    "labels[int(np.argmax(yhat))]"
   ]
  },
  {
   "cell_type": "code",
   "execution_count": 32,
   "metadata": {},
   "outputs": [],
   "source": [
    "#full_size_image = cv2.imread(\"smile6.jpg\")\n",
    "#print(\"Image Loaded\")\n",
    "#gray=cv2.cvtColor(full_size_image,cv2.COLOR_RGB2GRAY)\n",
    "#clr=cv2.cvtColor(full_size_image,cv2.COLOR_GRAY2BGR)\n",
    "face = cv2.CascadeClassifier('haarcascade_frontalface_default.xml')\n",
    "faces = face.detectMultiScale(gray, 1.51  , 5)\n",
    "#cv2.imshow('org',clr)\n",
    "cv2.imshow('gray',gray)\n",
    "cv2.waitKey(0)\n",
    "cv2.destroyAllWindows()\n"
   ]
  },
  {
   "cell_type": "code",
   "execution_count": 33,
   "metadata": {},
   "outputs": [
    {
     "name": "stdout",
     "output_type": "stream",
     "text": [
      "Emotion: Happy\n"
     ]
    },
    {
     "data": {
      "text/plain": [
       "-1"
      ]
     },
     "execution_count": 33,
     "metadata": {},
     "output_type": "execute_result"
    }
   ],
   "source": [
    "for (x, y, w, h) in faces:\n",
    "        roi_gray = gray[y:y + h, x:x + w]\n",
    "        cropped_img = np.expand_dims(np.expand_dims(cv2.resize(roi_gray, (48, 48)), -1), 0)\n",
    "        cv2.normalize(cropped_img, cropped_img, alpha=0, beta=1, norm_type=cv2.NORM_L2, dtype=cv2.CV_32F)\n",
    "        cv2.rectangle(gray, (x, y), (x + w, y + h), (0, 255, 0), 1)\n",
    "        #predicting the emotion\n",
    "        yhat= loaded_model.predict(cropped_img)\n",
    "        cv2.putText(full_size_image, labels[int(np.argmax(yhat))], (x, y), cv2.FONT_HERSHEY_SIMPLEX, 0.8, (0, 255, 0), 1, cv2.LINE_AA)\n",
    "        print(\"Emotion: \"+labels[int(np.argmax(yhat))])\n",
    "cv2.imshow('Emotion', gray)\n",
    "cv2.waitKey()\n"
   ]
  },
  {
   "cell_type": "code",
   "execution_count": 4,
   "metadata": {},
   "outputs": [
    {
     "data": {
      "text/plain": [
       "array([[5.1903939e-01, 6.0865746e-05, 3.0363172e-01, 1.8868479e-03,\n",
       "        3.1362856e-03, 1.6464268e-01, 7.6021412e-03]], dtype=float32)"
      ]
     },
     "execution_count": 4,
     "metadata": {},
     "output_type": "execute_result"
    }
   ],
   "source": [
    "yhat"
   ]
  },
  {
   "cell_type": "code",
   "execution_count": null,
   "metadata": {},
   "outputs": [],
   "source": []
  }
 ],
 "metadata": {
  "kernelspec": {
   "display_name": "Python 3",
   "language": "python",
   "name": "python3"
  },
  "language_info": {
   "codemirror_mode": {
    "name": "ipython",
    "version": 3
   },
   "file_extension": ".py",
   "mimetype": "text/x-python",
   "name": "python",
   "nbconvert_exporter": "python",
   "pygments_lexer": "ipython3",
   "version": "3.7.6"
  }
 },
 "nbformat": 4,
 "nbformat_minor": 2
}
